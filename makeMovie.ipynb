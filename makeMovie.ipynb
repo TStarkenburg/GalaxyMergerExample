{
  "nbformat": 4,
  "nbformat_minor": 0,
  "metadata": {
    "colab": {
      "name": "makeMovie.ipynb",
      "provenance": [],
      "collapsed_sections": [],
      "toc_visible": true
    },
    "kernelspec": {
      "name": "python3",
      "display_name": "Python 3"
    }
  },
  "cells": [
    {
      "cell_type": "code",
      "metadata": {
        "id": "cURvrYDYZ5Un",
        "colab_type": "code",
        "colab": {}
      },
      "source": [
        "import numpy as np\n",
        "import matplotlib.pyplot as plt\n",
        "import h5py as h5\n",
        "%matplotlib inline"
      ],
      "execution_count": 1,
      "outputs": []
    },
    {
      "cell_type": "code",
      "metadata": {
        "id": "278YrQFP4Dxn",
        "colab_type": "code",
        "colab": {
          "base_uri": "https://localhost:8080/",
          "height": 136
        },
        "outputId": "81620dd6-4be2-4b15-eb14-5b683c7096c1"
      },
      "source": [
        "! git clone https://github.com/TStarkenburg/GalaxyMergerExample.git"
      ],
      "execution_count": 2,
      "outputs": [
        {
          "output_type": "stream",
          "text": [
            "Cloning into 'GalaxyMergerExample'...\n",
            "remote: Enumerating objects: 50, done.\u001b[K\n",
            "remote: Counting objects: 100% (50/50), done.\u001b[K\n",
            "remote: Compressing objects: 100% (48/48), done.\u001b[K\n",
            "remote: Total 50 (delta 1), reused 44 (delta 0), pack-reused 0\u001b[K\n",
            "Unpacking objects: 100% (50/50), done.\n",
            "Checking out files: 100% (42/42), done.\n"
          ],
          "name": "stdout"
        }
      ]
    },
    {
      "cell_type": "code",
      "metadata": {
        "id": "ZCnjrb1G7MfM",
        "colab_type": "code",
        "colab": {}
      },
      "source": [
        "! mkdir images\n"
      ],
      "execution_count": 3,
      "outputs": []
    },
    {
      "cell_type": "code",
      "metadata": {
        "id": "axuYXJB16un5",
        "colab_type": "code",
        "colab": {}
      },
      "source": [
        "for snapshot in range(81):\n",
        "    snapfile = h5.File('GalaxyMergerExample/data/stars_snapshot_%03d.hdf5' %(snapshot*5, snapshot*5), 'r')\n",
        "    print (\"opening snapshot\", snapshot)\n",
        "\n",
        "    pos1 = snapfile['PartType2/Coordinates'][:,:]\n",
        "    pos2 = snapfile['PartType3/Coordinates'][:,:]\n",
        "    if snapshot > 0:\n",
        "        posn = snapfile['PartType4/Coordinates'][:,:]\n",
        "        massn = snapfile['PartType4/Mass'][:]*1.0e10/0.73\n",
        "        pos = np.concatenate((pos1, pos2, posn), axis = 0)\n",
        "        mass = np.concatenate((np.repeat(2.0e-8*1.0e10/0.73, len(pos1[:,0])),np.repeat(2.0e-8*1.0e10/0.73, len(pos2[:,0])),massn),axis = 0)\n",
        "    else:\n",
        "        pos = np.concatenate((pos1, pos2), axis = 0)\n",
        "        mass = np.concatenate((np.repeat(2.0e-8*1.0e10/0.73, len(pos1[:,0])),np.repeat(2.0e-8*1.0e10/0.73, len(pos2[:,0]))),axis = 0)\n",
        "\n",
        "    plt.subplots(1,1,figsize=[8,6])\n",
        "    maxsize = 60\n",
        "    nbins = 60\n",
        "    binopp = (2.0*1000*maxsize/nbins)**2 #in pc^2\n",
        "    histdisk, xedges, yedges = np.histogram2d(-pos[:,1], pos[:,0], range = [[-20, 40],[-40, 20]], bins=nbins, weights = mass[:]*1.0e10/0.73/binopp)\n",
        "    plt.imshow(np.log10(histdisk*(histdisk > 10*2.0e-8*1.0e10/0.73/binopp)), extent = (-40, 20, -40, 20), cmap='plasma', vmin = 9.5, vmax = 12.5)\n",
        "    plt.text(-35, 15, 'time = %0.0f Million yr' %(snapshot*10*5), color = 'black')\n",
        "    cbar1 = plt.colorbar()\n",
        "    plt.axis([-40, 20, -40, 20])\n",
        "    plt.xlabel('x [kpc]')\n",
        "    plt.ylabel('y [kpc]')\n",
        "    plt.title('Stars')\n",
        "    cbar1.set_label('Log Surface Density [Msun/pc^2]', rotation=90)\n",
        "    plt.savefig('images/stars_%03d.png' %snapshot)\n",
        "    plt.close()"
      ],
      "execution_count": null,
      "outputs": []
    },
    {
      "cell_type": "code",
      "metadata": {
        "id": "EdXooSqfffL4",
        "colab_type": "code",
        "colab": {
          "base_uri": "https://localhost:8080/",
          "height": 34
        },
        "outputId": "6f8e4c02-a69e-4931-bb93-003f12aaff85"
      },
      "source": [
        "import cv2\n",
        "import os\n",
        "from google.colab.patches import cv2_imshow\n",
        "\n",
        "video_name = 'stars.mp4'\n",
        "\n",
        "images = []\n",
        "for i in range(151):\n",
        "    images.append('images/stars_%03d.png' %(i*2))\n",
        "\n",
        "# Determine the width and height from the first image\n",
        "frame = cv2.imread(images[0])\n",
        "#cv2_imshow(frame)\n",
        "height, width, channels = frame.shape\n",
        "\n",
        "# Define the codec and create VideoWriter object\n",
        "fourcc = cv2.VideoWriter_fourcc(*'mp4v') # Be sure to use lower case\n",
        "out = cv2.VideoWriter(video_name, fourcc, 20.0, (width, height))\n",
        "\n",
        "for image in images:\n",
        "    frame = cv2.imread(image)\n",
        "\n",
        "    out.write(frame) # Write out frame to video\n",
        "\n",
        "    #cv2_imshow(frame)\n",
        "    if (cv2.waitKey(1) & 0xFF) == ord('q'): # Hit `q` to exit\n",
        "        break\n",
        "\n",
        "# Release everything if job is finished\n",
        "out.release()\n",
        "cv2.destroyAllWindows()\n",
        "\n",
        "print(\"The output video is {}\".format(video_name))"
      ],
      "execution_count": null,
      "outputs": [
        {
          "output_type": "stream",
          "text": [
            "The output video is darkMatter_i2.mp4\n"
          ],
          "name": "stdout"
        }
      ]
    },
    {
      "cell_type": "code",
      "metadata": {
        "id": "394gmJb2fyVu",
        "colab_type": "code",
        "colab": {}
      },
      "source": [
        ""
      ],
      "execution_count": null,
      "outputs": []
    }
  ]
}