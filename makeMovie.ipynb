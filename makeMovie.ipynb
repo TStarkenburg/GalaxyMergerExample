{
  "nbformat": 4,
  "nbformat_minor": 0,
  "metadata": {
    "colab": {
      "name": "makeMovie.ipynb",
      "provenance": [],
      "collapsed_sections": []
    },
    "kernelspec": {
      "name": "python3",
      "display_name": "Python 3"
    }
  },
  "cells": [
    {
      "cell_type": "markdown",
      "metadata": {
        "id": "n2-Z9R7FDeZp",
        "colab_type": "text"
      },
      "source": [
        "This Notebook will step you through reading in snapshots from a galaxy merger simulation, making images of the stellar surface density, and making a movie of the stellar distribution over time.\n",
        "\n",
        "First of all we need to get the data that we're going to work with:"
      ]
    },
    {
      "cell_type": "code",
      "metadata": {
        "id": "278YrQFP4Dxn",
        "colab_type": "code",
        "colab": {}
      },
      "source": [
        "! git clone https://github.com/TStarkenburg/GalaxyMergerExample.git"
      ],
      "execution_count": null,
      "outputs": []
    },
    {
      "cell_type": "markdown",
      "metadata": {
        "id": "j_ujn9zAD2PU",
        "colab_type": "text"
      },
      "source": [
        "Then we need to initialize the packages we will use"
      ]
    },
    {
      "cell_type": "code",
      "metadata": {
        "id": "cURvrYDYZ5Un",
        "colab_type": "code",
        "colab": {}
      },
      "source": [
        "import numpy as np\n",
        "import matplotlib.pyplot as plt\n",
        "import h5py as h5\n",
        "%matplotlib inline"
      ],
      "execution_count": null,
      "outputs": []
    },
    {
      "cell_type": "markdown",
      "metadata": {
        "id": "nvAYVj5iDYHx",
        "colab_type": "text"
      },
      "source": [
        "Now we need to make a folder where we can put all the images that we create."
      ]
    },
    {
      "cell_type": "code",
      "metadata": {
        "id": "ZCnjrb1G7MfM",
        "colab_type": "code",
        "colab": {}
      },
      "source": [
        "! mkdir images\n"
      ],
      "execution_count": null,
      "outputs": []
    },
    {
      "cell_type": "markdown",
      "metadata": {
        "id": "e1Jk5ap_D7Q4",
        "colab_type": "text"
      },
      "source": [
        "Ok, so now we're ready to start making images. First lets explore our snapshot files: what is in there?"
      ]
    },
    {
      "cell_type": "code",
      "metadata": {
        "id": "Mhb4ZTe1EpOV",
        "colab_type": "code",
        "colab": {
          "base_uri": "https://localhost:8080/",
          "height": 51
        },
        "outputId": "863690bd-9435-4d28-d795-c3bf93e31b13"
      },
      "source": [
        "snapfile = h5.File('GalaxyMergerExample/data/stars_snapshot_000.hdf5', 'r')\n",
        "print (\"opening snapshot 0\")\n",
        "list(snapfile['PartType2'].keys())"
      ],
      "execution_count": null,
      "outputs": [
        {
          "output_type": "stream",
          "text": [
            "opening snapshot 0\n"
          ],
          "name": "stdout"
        },
        {
          "output_type": "execute_result",
          "data": {
            "text/plain": [
              "['Coordinates', 'ParticleIDs', 'Potential', 'Velocity']"
            ]
          },
          "metadata": {
            "tags": []
          },
          "execution_count": 4
        }
      ]
    },
    {
      "cell_type": "markdown",
      "metadata": {
        "id": "mUXBkqqFEHEy",
        "colab_type": "text"
      },
      "source": [
        "Ok. So a snapshot has different types of particles, and those particles have coordinates (positions), velocities, and such. Let's make an image for the first snapshot, using just the coordinates of the particles."
      ]
    },
    {
      "cell_type": "code",
      "metadata": {
        "id": "Byi2pRDCFf92",
        "colab_type": "code",
        "colab": {
          "base_uri": "https://localhost:8080/",
          "height": 475
        },
        "outputId": "4291b4bb-725a-4c5f-9873-d0a421acc313"
      },
      "source": [
        "snapfile = h5.File('GalaxyMergerExample/data/stars_snapshot_000.hdf5', 'r')\n",
        "print (\"opening snapshot 0\")\n",
        "\n",
        "pos1 = snapfile['PartType2/Coordinates'][:,:]\n",
        "pos2 = snapfile['PartType3/Coordinates'][:,:]\n",
        "pos = np.concatenate((pos1, pos2), axis = 0)\n",
        "mass = np.concatenate((np.repeat(2.0e-8*1.0e10/0.73, len(pos1[:,0])),np.repeat(2.0e-8*1.0e10/0.73, len(pos2[:,0]))),axis = 0)\n",
        "\n",
        "plt.subplots(1,1,figsize=[8,6])\n",
        "maxsize = 60\n",
        "nbins = 100\n",
        "binopp = (2.0*1000*maxsize/nbins)**2 #in pc^2\n",
        "histdisk, xedges, yedges = np.histogram2d(-pos[:,1], pos[:,0], range = [[-20, 40],[-40, 20]], bins=nbins, weights = mass[:]*1.0e10/0.73/binopp)\n",
        "im = plt.imshow(np.log10(histdisk*(histdisk > 10*2.0e-8*1.0e10/0.73/binopp)), extent = (-40, 20, -40, 20), cmap='plasma', vmin = 5.5, vmax = 12)\n",
        "plt.text(-35, 15, 'time = %0.0f Million yr' %(0), color = 'black')\n",
        "im.cmap.set_under('white')\n",
        "cbar1 = plt.colorbar(extend = 'min')\n",
        "plt.axis([-40, 20, -40, 20])\n",
        "plt.xlabel('x [kpc]')\n",
        "plt.ylabel('y [kpc]')\n",
        "plt.title('Stars')\n",
        "cbar1.set_label('Log Surface Density [Msun/pc^2]', rotation=90)\n",
        "plt.show()"
      ],
      "execution_count": null,
      "outputs": [
        {
          "output_type": "stream",
          "text": [
            "opening snapshot 0\n"
          ],
          "name": "stdout"
        },
        {
          "output_type": "stream",
          "text": [
            "/usr/local/lib/python3.6/dist-packages/ipykernel_launcher.py:14: RuntimeWarning: divide by zero encountered in log10\n",
            "  \n"
          ],
          "name": "stderr"
        },
        {
          "output_type": "display_data",
          "data": {
            "image/png": "[encoded data removed]",
            "text/plain": [
              "<Figure size 576x432 with 2 Axes>"
            ]
          },
          "metadata": {
            "tags": [],
            "needs_background": "light"
          }
        }
      ]
    },
    {
      "cell_type": "markdown",
      "metadata": {
        "id": "yWIzn5bzEMpL",
        "colab_type": "text"
      },
      "source": [
        "Ah, so now we can read the snapshots and make images. Now, i've already automated that process for all snapshots for you. So the follwing uses a for-loop to step through all snapshots and make images and save those in our \"images\" folder."
      ]
    },
    {
      "cell_type": "code",
      "metadata": {
        "id": "axuYXJB16un5",
        "colab_type": "code",
        "colab": {
          "base_uri": "https://localhost:8080/",
          "height": 1000
        },
        "outputId": "ba0d2fc7-0315-471d-c8bf-1cc427455eb4"
      },
      "source": [
        "for snapshot in range(201):\n",
        "    snapfile = h5.File('GalaxyMergerExample/data/stars_snapshot_%03d.hdf5' %(snapshot*2), 'r')\n",
        "    print (\"opening snapshot\", snapshot*2)\n",
        "\n",
        "    pos1 = snapfile['PartType2/Coordinates'][:,:]\n",
        "    pos2 = snapfile['PartType3/Coordinates'][:,:]\n",
        "    if snapshot > 0:\n",
        "        posn = snapfile['PartType4/Coordinates'][:,:]\n",
        "        massn = snapfile['PartType4/Mass'][:]*1.0e10/0.73\n",
        "        pos = np.concatenate((pos1, pos2, posn), axis = 0)\n",
        "        mass = np.concatenate((np.repeat(2.0e-8*1.0e10/0.73, len(pos1[:,0])),np.repeat(2.0e-8*1.0e10/0.73, len(pos2[:,0])),massn),axis = 0)\n",
        "    else:\n",
        "        pos = np.concatenate((pos1, pos2), axis = 0)\n",
        "        mass = np.concatenate((np.repeat(2.0e-8*1.0e10/0.73, len(pos1[:,0])),np.repeat(2.0e-8*1.0e10/0.73, len(pos2[:,0]))),axis = 0)\n",
        "\n",
        "    plt.subplots(1,1,figsize=[8,6])\n",
        "    maxsize = 60\n",
        "    nbins = 100\n",
        "    binopp = (2.0*1000*maxsize/nbins)**2 #in pc^2\n",
        "    histdisk, xedges, yedges = np.histogram2d(-pos[:,1], pos[:,0], range = [[-20, 40],[-40, 20]], bins=nbins, weights = mass[:]*1.0e10/0.73/binopp)\n",
        "    im = plt.imshow(np.log10(histdisk*(histdisk > 10*2.0e-8*1.0e10/0.73/binopp)), extent = (-40, 20, -40, 20), cmap='plasma', vmin = 5.5, vmax = 12)\n",
        "    plt.text(-35, 15, 'time = %0.0f Million yr' %(snapshot*10*2), color = 'black')\n",
        "    im.cmap.set_under('white')\n",
        "    cbar1 = plt.colorbar(extend = 'min')\n",
        "    plt.axis([-40, 20, -40, 20])\n",
        "    plt.xlabel('x [kpc]')\n",
        "    plt.ylabel('y [kpc]')\n",
        "    plt.title('Stars')\n",
        "    cbar1.set_label('Log Surface Density [Msun/pc^2]', rotation=90)\n",
        "    plt.savefig('images/stars_%03d.png' %snapshot)\n",
        "    plt.close()"
      ],
      "execution_count": null,
      "outputs": [
        {
          "output_type": "stream",
          "text": [
            "opening snapshot 0\n"
          ],
          "name": "stdout"
        },
        {
          "output_type": "stream",
          "text": [
            "/usr/local/lib/python3.6/dist-packages/ipykernel_launcher.py:21: RuntimeWarning: divide by zero encountered in log10\n"
          ],
          "name": "stderr"
        },
        {
          "output_type": "stream",
          "text": [
            "opening snapshot 2\n",
            "opening snapshot 4\n",
            "opening snapshot 6\n",
            "opening snapshot 8\n",
            "opening snapshot 10\n",
            "opening snapshot 12\n",
            "opening snapshot 14\n",
            "opening snapshot 16\n",
            "opening snapshot 18\n",
            "opening snapshot 20\n",
            "opening snapshot 22\n",
            "opening snapshot 24\n",
            "opening snapshot 26\n",
            "opening snapshot 28\n",
            "opening snapshot 30\n",
            "opening snapshot 32\n",
            "opening snapshot 34\n",
            "opening snapshot 36\n",
            "opening snapshot 38\n",
            "opening snapshot 40\n",
            "opening snapshot 42\n",
            "opening snapshot 44\n",
            "opening snapshot 46\n",
            "opening snapshot 48\n",
            "opening snapshot 50\n",
            "opening snapshot 52\n",
            "opening snapshot 54\n",
            "opening snapshot 56\n",
            "opening snapshot 58\n",
            "opening snapshot 60\n",
            "opening snapshot 62\n",
            "opening snapshot 64\n",
            "opening snapshot 66\n",
            "opening snapshot 68\n",
            "opening snapshot 70\n",
            "opening snapshot 72\n",
            "opening snapshot 74\n",
            "opening snapshot 76\n",
            "opening snapshot 78\n",
            "opening snapshot 80\n",
            "opening snapshot 82\n",
            "opening snapshot 84\n",
            "opening snapshot 86\n",
            "opening snapshot 88\n",
            "opening snapshot 90\n",
            "opening snapshot 92\n",
            "opening snapshot 94\n",
            "opening snapshot 96\n",
            "opening snapshot 98\n",
            "opening snapshot 100\n",
            "opening snapshot 102\n",
            "opening snapshot 104\n",
            "opening snapshot 106\n",
            "opening snapshot 108\n",
            "opening snapshot 110\n",
            "opening snapshot 112\n",
            "opening snapshot 114\n",
            "opening snapshot 116\n",
            "opening snapshot 118\n",
            "opening snapshot 120\n",
            "opening snapshot 122\n",
            "opening snapshot 124\n",
            "opening snapshot 126\n",
            "opening snapshot 128\n",
            "opening snapshot 130\n",
            "opening snapshot 132\n",
            "opening snapshot 134\n",
            "opening snapshot 136\n",
            "opening snapshot 138\n",
            "opening snapshot 140\n",
            "opening snapshot 142\n",
            "opening snapshot 144\n",
            "opening snapshot 146\n",
            "opening snapshot 148\n",
            "opening snapshot 150\n",
            "opening snapshot 152\n",
            "opening snapshot 154\n",
            "opening snapshot 156\n",
            "opening snapshot 158\n",
            "opening snapshot 160\n",
            "opening snapshot 162\n",
            "opening snapshot 164\n",
            "opening snapshot 166\n",
            "opening snapshot 168\n",
            "opening snapshot 170\n",
            "opening snapshot 172\n",
            "opening snapshot 174\n",
            "opening snapshot 176\n",
            "opening snapshot 178\n",
            "opening snapshot 180\n",
            "opening snapshot 182\n",
            "opening snapshot 184\n",
            "opening snapshot 186\n",
            "opening snapshot 188\n",
            "opening snapshot 190\n",
            "opening snapshot 192\n",
            "opening snapshot 194\n",
            "opening snapshot 196\n",
            "opening snapshot 198\n",
            "opening snapshot 200\n",
            "opening snapshot 202\n",
            "opening snapshot 204\n",
            "opening snapshot 206\n",
            "opening snapshot 208\n",
            "opening snapshot 210\n",
            "opening snapshot 212\n",
            "opening snapshot 214\n",
            "opening snapshot 216\n",
            "opening snapshot 218\n",
            "opening snapshot 220\n",
            "opening snapshot 222\n",
            "opening snapshot 224\n",
            "opening snapshot 226\n",
            "opening snapshot 228\n",
            "opening snapshot 230\n",
            "opening snapshot 232\n",
            "opening snapshot 234\n",
            "opening snapshot 236\n",
            "opening snapshot 238\n",
            "opening snapshot 240\n",
            "opening snapshot 242\n",
            "opening snapshot 244\n",
            "opening snapshot 246\n",
            "opening snapshot 248\n",
            "opening snapshot 250\n",
            "opening snapshot 252\n",
            "opening snapshot 254\n",
            "opening snapshot 256\n",
            "opening snapshot 258\n",
            "opening snapshot 260\n",
            "opening snapshot 262\n",
            "opening snapshot 264\n",
            "opening snapshot 266\n",
            "opening snapshot 268\n",
            "opening snapshot 270\n",
            "opening snapshot 272\n",
            "opening snapshot 274\n",
            "opening snapshot 276\n",
            "opening snapshot 278\n",
            "opening snapshot 280\n",
            "opening snapshot 282\n",
            "opening snapshot 284\n",
            "opening snapshot 286\n",
            "opening snapshot 288\n",
            "opening snapshot 290\n",
            "opening snapshot 292\n",
            "opening snapshot 294\n",
            "opening snapshot 296\n",
            "opening snapshot 298\n",
            "opening snapshot 300\n",
            "opening snapshot 302\n",
            "opening snapshot 304\n",
            "opening snapshot 306\n",
            "opening snapshot 308\n",
            "opening snapshot 310\n",
            "opening snapshot 312\n",
            "opening snapshot 314\n",
            "opening snapshot 316\n",
            "opening snapshot 318\n",
            "opening snapshot 320\n",
            "opening snapshot 322\n",
            "opening snapshot 324\n",
            "opening snapshot 326\n",
            "opening snapshot 328\n",
            "opening snapshot 330\n",
            "opening snapshot 332\n",
            "opening snapshot 334\n",
            "opening snapshot 336\n",
            "opening snapshot 338\n",
            "opening snapshot 340\n",
            "opening snapshot 342\n",
            "opening snapshot 344\n",
            "opening snapshot 346\n",
            "opening snapshot 348\n",
            "opening snapshot 350\n",
            "opening snapshot 352\n",
            "opening snapshot 354\n",
            "opening snapshot 356\n",
            "opening snapshot 358\n",
            "opening snapshot 360\n",
            "opening snapshot 362\n",
            "opening snapshot 364\n",
            "opening snapshot 366\n",
            "opening snapshot 368\n",
            "opening snapshot 370\n",
            "opening snapshot 372\n",
            "opening snapshot 374\n",
            "opening snapshot 376\n",
            "opening snapshot 378\n",
            "opening snapshot 380\n",
            "opening snapshot 382\n",
            "opening snapshot 384\n",
            "opening snapshot 386\n",
            "opening snapshot 388\n",
            "opening snapshot 390\n",
            "opening snapshot 392\n",
            "opening snapshot 394\n",
            "opening snapshot 396\n",
            "opening snapshot 398\n",
            "opening snapshot 400\n"
          ],
          "name": "stdout"
        }
      ]
    },
    {
      "cell_type": "markdown",
      "metadata": {
        "id": "HpRu50qdF-_i",
        "colab_type": "text"
      },
      "source": [
        "Now we just need to take all these images that we've created and connect them together in a movie."
      ]
    },
    {
      "cell_type": "code",
      "metadata": {
        "id": "EdXooSqfffL4",
        "colab_type": "code",
        "colab": {
          "base_uri": "https://localhost:8080/",
          "height": 34
        },
        "outputId": "963063a5-9bf8-4151-8467-38ac93bc7ffb"
      },
      "source": [
        "import cv2\n",
        "import os\n",
        "from google.colab.patches import cv2_imshow\n",
        "\n",
        "video_name = 'stars.mp4'\n",
        "\n",
        "images = []\n",
        "for i in range(201):\n",
        "    images.append('images/stars_%03d.png' %(i))\n",
        "\n",
        "# Determine the width and height from the first image\n",
        "frame = cv2.imread(images[0])\n",
        "#cv2_imshow(frame)\n",
        "height, width, channels = frame.shape\n",
        "\n",
        "# Define the codec and create VideoWriter object\n",
        "fourcc = cv2.VideoWriter_fourcc(*'mp4v') # Be sure to use lower case\n",
        "out = cv2.VideoWriter(video_name, fourcc, 20.0, (width, height))\n",
        "\n",
        "for image in images:\n",
        "    frame = cv2.imread(image)\n",
        "\n",
        "    out.write(frame) # Write out frame to video\n",
        "\n",
        "    #cv2_imshow(frame)\n",
        "    if (cv2.waitKey(1) & 0xFF) == ord('q'): # Hit `q` to exit\n",
        "        break\n",
        "\n",
        "# Release everything if job is finished\n",
        "out.release()\n",
        "cv2.destroyAllWindows()\n",
        "\n",
        "print(\"The output video is {}\".format(video_name))"
      ],
      "execution_count": null,
      "outputs": [
        {
          "output_type": "stream",
          "text": [
            "The output video is stars.mp4\n"
          ],
          "name": "stdout"
        }
      ]
    },
    {
      "cell_type": "code",
      "metadata": {
        "id": "394gmJb2fyVu",
        "colab_type": "code",
        "colab": {}
      },
      "source": [
        ""
      ],
      "execution_count": null,
      "outputs": []
    }
  ]
}